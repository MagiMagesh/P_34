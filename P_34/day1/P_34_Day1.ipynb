{
  "cells": [
    {
      "cell_type": "code",
      "execution_count": 1,
      "metadata": {
        "id": "RqeK0FpFKpme"
      },
      "outputs": [],
      "source": [
        "# notebook file\n",
        "\n",
        "# ipynb  - interactive python notebook"
      ]
    },
    {
      "cell_type": "code",
      "execution_count": null,
      "metadata": {
        "id": "X76K56pfLSzH"
      },
      "outputs": [],
      "source": [
        "# python programming:\n",
        "\n",
        "# data types\n",
        "\n",
        "int   -   Integer - Non Decimal Number -Infinty to +Infinty\n",
        "float -   Float   - Decimal Number -Infinty to +Infinty\n",
        "str   -   String  - when anything/whatever is inside ' ' or \" \"\n",
        "\n",
        "bool\n",
        "complex\n",
        "list\n",
        "tuple\n",
        "set\n",
        "dict\n",
        "None"
      ]
    },
    {
      "cell_type": "code",
      "execution_count": 2,
      "metadata": {
        "colab": {
          "base_uri": "https://localhost:8080/",
          "height": 141
        },
        "id": "TUxE_F-GLS16",
        "outputId": "b4b776cf-5108-40ee-ccf2-44161bb8d2ca"
      },
      "outputs": [
        {
          "ename": "NameError",
          "evalue": "name 'Hello' is not defined",
          "output_type": "error",
          "traceback": [
            "\u001b[0;31m---------------------------------------------------------------------------\u001b[0m",
            "\u001b[0;31mNameError\u001b[0m                                 Traceback (most recent call last)",
            "\u001b[0;32m<ipython-input-2-1d229271928d>\u001b[0m in \u001b[0;36m<cell line: 1>\u001b[0;34m()\u001b[0m\n\u001b[0;32m----> 1\u001b[0;31m \u001b[0mHello\u001b[0m\u001b[0;34m\u001b[0m\u001b[0;34m\u001b[0m\u001b[0m\n\u001b[0m",
            "\u001b[0;31mNameError\u001b[0m: name 'Hello' is not defined"
          ]
        }
      ],
      "source": [
        "Hello"
      ]
    },
    {
      "cell_type": "code",
      "execution_count": 3,
      "metadata": {
        "colab": {
          "base_uri": "https://localhost:8080/",
          "height": 35
        },
        "id": "T7aLZIz4LS63",
        "outputId": "0314e808-9420-46f1-91e9-8a67e6276b9c"
      },
      "outputs": [
        {
          "data": {
            "application/vnd.google.colaboratory.intrinsic+json": {
              "type": "string"
            },
            "text/plain": [
              "'Hello'"
            ]
          },
          "execution_count": 3,
          "metadata": {},
          "output_type": "execute_result"
        }
      ],
      "source": [
        "'123.234234'"
      ]
    },
    {
      "cell_type": "code",
      "execution_count": 4,
      "metadata": {
        "colab": {
          "base_uri": "https://localhost:8080/",
          "height": 35
        },
        "id": "wBUBalA2LS9c",
        "outputId": "d19211eb-c000-4388-8434-11678ad44e44"
      },
      "outputs": [
        {
          "data": {
            "application/vnd.google.colaboratory.intrinsic+json": {
              "type": "string"
            },
            "text/plain": [
              "'123.234234'"
            ]
          },
          "execution_count": 4,
          "metadata": {},
          "output_type": "execute_result"
        }
      ],
      "source": [
        "'123.234234'"
      ]
    },
    {
      "cell_type": "code",
      "execution_count": 5,
      "metadata": {
        "colab": {
          "base_uri": "https://localhost:8080/",
          "height": 35
        },
        "id": "Esqo10M2LTAD",
        "outputId": "b43f491b-6b69-4026-fbe7-8501c18297ed"
      },
      "outputs": [
        {
          "data": {
            "application/vnd.google.colaboratory.intrinsic+json": {
              "type": "string"
            },
            "text/plain": [
              "'123.234234'"
            ]
          },
          "execution_count": 5,
          "metadata": {},
          "output_type": "execute_result"
        }
      ],
      "source": [
        "\"123.234234\""
      ]
    },
    {
      "cell_type": "code",
      "execution_count": 6,
      "metadata": {
        "colab": {
          "base_uri": "https://localhost:8080/"
        },
        "id": "TGghusUaLTCc",
        "outputId": "fad55842-cd2c-42e7-ad5f-3ab0606b892c"
      },
      "outputs": [
        {
          "data": {
            "text/plain": [
              "123"
            ]
          },
          "execution_count": 6,
          "metadata": {},
          "output_type": "execute_result"
        }
      ],
      "source": [
        "123"
      ]
    },
    {
      "cell_type": "code",
      "execution_count": 7,
      "metadata": {
        "colab": {
          "base_uri": "https://localhost:8080/"
        },
        "id": "LOC1Cja5LTFA",
        "outputId": "ff4317c9-4458-4066-e1c5-76150a0cf4fe"
      },
      "outputs": [
        {
          "data": {
            "text/plain": [
              "123.34543"
            ]
          },
          "execution_count": 7,
          "metadata": {},
          "output_type": "execute_result"
        }
      ],
      "source": [
        "123.34543"
      ]
    },
    {
      "cell_type": "code",
      "execution_count": 10,
      "metadata": {
        "colab": {
          "base_uri": "https://localhost:8080/",
          "height": 35
        },
        "id": "-40bKCpdLTHm",
        "outputId": "a46735ec-453a-430a-d2da-e160b8ea3690"
      },
      "outputs": [
        {
          "data": {
            "application/vnd.google.colaboratory.intrinsic+json": {
              "type": "string"
            },
            "text/plain": [
              "'world'"
            ]
          },
          "execution_count": 10,
          "metadata": {},
          "output_type": "execute_result"
        }
      ],
      "source": [
        "'Magesh'\n",
        "'hello'\n",
        "'Next'\n",
        "'world'"
      ]
    },
    {
      "cell_type": "code",
      "execution_count": null,
      "metadata": {
        "id": "gaWRvZK3LTJ9"
      },
      "outputs": [],
      "source": [
        "# print()\n",
        "# print is a function in python.\n",
        "# print is used to display the output.\n",
        "#"
      ]
    },
    {
      "cell_type": "code",
      "execution_count": 11,
      "metadata": {
        "colab": {
          "base_uri": "https://localhost:8080/"
        },
        "id": "UNKS5LCMLTNE",
        "outputId": "dcf1042e-e5c1-4868-d1e4-0adad47b9a3f"
      },
      "outputs": [
        {
          "data": {
            "text/plain": [
              "234"
            ]
          },
          "execution_count": 11,
          "metadata": {},
          "output_type": "execute_result"
        }
      ],
      "source": [
        "123\n",
        "123.123123\n",
        "234234.23423\n",
        "234"
      ]
    },
    {
      "cell_type": "code",
      "execution_count": 12,
      "metadata": {
        "colab": {
          "base_uri": "https://localhost:8080/"
        },
        "id": "3ZrpsYImLTP-",
        "outputId": "8c661efd-1769-434b-c927-df39eb270077"
      },
      "outputs": [
        {
          "name": "stdout",
          "output_type": "stream",
          "text": [
            "123\n",
            "123.123123\n",
            "234234.23423\n",
            "234\n"
          ]
        }
      ],
      "source": [
        "print(123)\n",
        "print(123.123123)\n",
        "print(234234.23423)\n",
        "print(234)"
      ]
    },
    {
      "cell_type": "code",
      "execution_count": null,
      "metadata": {
        "id": "oc9Metl9VpjR"
      },
      "outputs": [],
      "source": [
        "print('hello')\n"
      ]
    },
    {
      "cell_type": "code",
      "execution_count": 14,
      "metadata": {
        "colab": {
          "base_uri": "https://localhost:8080/"
        },
        "id": "d9YCrPqxLTSj",
        "outputId": "f2706ce9-ab13-4ad6-dcab-8e8516ebe994"
      },
      "outputs": [
        {
          "name": "stdout",
          "output_type": "stream",
          "text": [
            "123\n",
            "123\n"
          ]
        }
      ],
      "source": [
        "print('123')\n",
        "print(123)\n",
        "print(\"123\")\n"
      ]
    },
    {
      "cell_type": "code",
      "execution_count": null,
      "metadata": {
        "id": "Q6TW3qbLLTVK"
      },
      "outputs": [],
      "source": [
        "'234.'"
      ]
    },
    {
      "cell_type": "code",
      "execution_count": 15,
      "metadata": {
        "id": "R82HdYkIWO2x"
      },
      "outputs": [],
      "source": [
        "# type(Object)\n",
        "# type is a function in python\n",
        "# type is used to check the data-type of Object"
      ]
    },
    {
      "cell_type": "code",
      "execution_count": 16,
      "metadata": {
        "colab": {
          "base_uri": "https://localhost:8080/"
        },
        "id": "FT6_zYUwWSFl",
        "outputId": "2fbc15ea-0962-4afe-e3f8-ae2cd1eab92e"
      },
      "outputs": [
        {
          "data": {
            "text/plain": [
              "int"
            ]
          },
          "execution_count": 16,
          "metadata": {},
          "output_type": "execute_result"
        }
      ],
      "source": [
        "type(121231231323121231231323121231231323121231231323121231231323121231231323)"
      ]
    },
    {
      "cell_type": "code",
      "execution_count": 17,
      "metadata": {
        "colab": {
          "base_uri": "https://localhost:8080/"
        },
        "id": "IwW0a8HrWdl6",
        "outputId": "e3ac7167-c9ad-4113-dab5-14192962d65c"
      },
      "outputs": [
        {
          "data": {
            "text/plain": [
              "float"
            ]
          },
          "execution_count": 17,
          "metadata": {},
          "output_type": "execute_result"
        }
      ],
      "source": [
        "type(234.) # float\n"
      ]
    },
    {
      "cell_type": "code",
      "execution_count": null,
      "metadata": {
        "id": "QVOFrGSmXGF5"
      },
      "outputs": [],
      "source": [
        "# Anything after to # Will not be executed by python in that  particular line."
      ]
    },
    {
      "cell_type": "code",
      "execution_count": null,
      "metadata": {
        "id": "vxcHgRk-WmYO"
      },
      "outputs": [],
      "source": [
        "# comments: #  shortcut - ctrl+/ | command+/\n",
        "# comments are used to explain the code\n",
        "# comments are not executed by the python"
      ]
    },
    {
      "cell_type": "code",
      "execution_count": 21,
      "metadata": {
        "colab": {
          "base_uri": "https://localhost:8080/",
          "height": 35
        },
        "id": "qe3r7ufxXSfr",
        "outputId": "21895c38-ecda-4585-cd9e-0b0c2d417b3a"
      },
      "outputs": [
        {
          "data": {
            "application/vnd.google.colaboratory.intrinsic+json": {
              "type": "string"
            },
            "text/plain": [
              "'one'"
            ]
          },
          "execution_count": 21,
          "metadata": {},
          "output_type": "execute_result"
        }
      ],
      "source": [
        "'one'\n",
        "\n",
        "# wh IDE\n",
        "  # google colab\n",
        "  # vs code\n",
        "  # jupyter notebook\n",
        "# wh programming\n",
        "# wh data types\n",
        "  # int\n",
        "  # float\n",
        "  # str\n",
        "# print()\n",
        "# type()\n",
        "# comments"
      ]
    },
    {
      "cell_type": "code",
      "execution_count": 22,
      "metadata": {
        "colab": {
          "base_uri": "https://localhost:8080/"
        },
        "id": "4x2iDb-qYGo9",
        "outputId": "ea07a9aa-1a4d-45d5-8399-59e69827d337"
      },
      "outputs": [
        {
          "name": "stdout",
          "output_type": "stream",
          "text": [
            "Magesh\n"
          ]
        }
      ],
      "source": [
        "print(\"Magesh\")"
      ]
    },
    {
      "cell_type": "code",
      "execution_count": 24,
      "metadata": {
        "colab": {
          "base_uri": "https://localhost:8080/"
        },
        "id": "t_LV63vmZAlO",
        "outputId": "4251648d-bec1-4dfe-d096-604fa8b4fb3f"
      },
      "outputs": [
        {
          "name": "stdout",
          "output_type": "stream",
          "text": [
            "<class 'int'>\n",
            "<class 'float'>\n",
            "<class 'str'>\n"
          ]
        }
      ],
      "source": [
        "print(int)    # <class 'int'>\n",
        "print(float)  # <class 'float'>\n",
        "\n",
        "print(str)    # <class 'str'>"
      ]
    },
    {
      "cell_type": "code",
      "execution_count": 26,
      "metadata": {
        "colab": {
          "base_uri": "https://localhost:8080/"
        },
        "id": "s-hVIY5xZLnZ",
        "outputId": "654632ea-0de9-4d26-a3ea-4a5cca5180c1"
      },
      "outputs": [
        {
          "name": "stdout",
          "output_type": "stream",
          "text": [
            "<class 'str'>\n"
          ]
        }
      ],
      "source": [
        "print(type('24234')) # <class 'str'>\n",
        "\n",
        "# step1 - type('24234') # str\n",
        "# step2 - print(str)    # <class 'str'>"
      ]
    },
    {
      "cell_type": "code",
      "execution_count": null,
      "metadata": {
        "id": "atnG6fIEZuf5"
      },
      "outputs": [],
      "source": [
        "step1 - to download python\n",
        "step2 - open terminal / command prompt\n",
        "step3 - python3 --version / python --version\n"
      ]
    },
    {
      "cell_type": "markdown",
      "metadata": {},
      "source": [
        "example for python file"
      ]
    },
    {
      "cell_type": "code",
      "execution_count": null,
      "metadata": {
        "id": "iQ861_jcZuin"
      },
      "outputs": [],
      "source": [
        "print(int)    # <class 'int'>\n",
        "print(float)  # <class 'float'>\n",
        "\n",
        "print(str)    # <class 'str'>\n",
        "\n",
        "print(type('24234')) # <class 'str'>\n",
        "\n",
        "# step1 - type('24234') # str\n",
        "# step2 - print(str)    # <class 'str'>\n",
        "\n",
        "type(121231231323121231231323121231231323121231231323121231231323121231231323)\n",
        "\n",
        "\n",
        "type(234.) # float\n",
        "\n",
        "\n",
        "print('123')\n",
        "print(123)\n",
        "print(\"123\")\n",
        "\n",
        "\n",
        "\"123.234234\"\n",
        "\n",
        "\n",
        "\n",
        "bool\n",
        "complex\n",
        "list\n",
        "tuple\n",
        "set\n",
        "dict\n",
        "None\n",
        "\n"
      ]
    },
    {
      "cell_type": "code",
      "execution_count": null,
      "metadata": {
        "id": "eckWipdZZuk9"
      },
      "outputs": [],
      "source": [
        "print(1)"
      ]
    },
    {
      "cell_type": "code",
      "execution_count": 2,
      "metadata": {
        "id": "Lp356Yl4Zunk"
      },
      "outputs": [
        {
          "data": {
            "text/plain": [
              "'i live in india'"
            ]
          },
          "execution_count": 2,
          "metadata": {},
          "output_type": "execute_result"
        }
      ],
      "source": [
        "a = '    i live in india     '\n",
        "a.strip(' ')"
      ]
    },
    {
      "cell_type": "code",
      "execution_count": 6,
      "metadata": {},
      "outputs": [
        {
          "data": {
            "text/plain": [
              "'i live in india'"
            ]
          },
          "execution_count": 6,
          "metadata": {},
          "output_type": "execute_result"
        }
      ],
      "source": [
        "a = '    i live in india     '\n",
        "a.strip()"
      ]
    },
    {
      "cell_type": "code",
      "execution_count": 3,
      "metadata": {
        "id": "FSctAQ-AZup6"
      },
      "outputs": [
        {
          "data": {
            "text/plain": [
              "'    i live in india     '"
            ]
          },
          "execution_count": 3,
          "metadata": {},
          "output_type": "execute_result"
        }
      ],
      "source": [
        "a"
      ]
    },
    {
      "cell_type": "code",
      "execution_count": 5,
      "metadata": {
        "id": "zvQxLUTwZusB"
      },
      "outputs": [
        {
          "data": {
            "text/plain": [
              "'i live in india'"
            ]
          },
          "execution_count": 5,
          "metadata": {},
          "output_type": "execute_result"
        }
      ],
      "source": [
        "a = ',,,,i live in india,,,,'\n",
        "a.strip(',')"
      ]
    },
    {
      "cell_type": "code",
      "execution_count": null,
      "metadata": {},
      "outputs": [],
      "source": [
        "a = ',,I,,i live in india,,,,'\n",
        "a.strip(',')"
      ]
    },
    {
      "cell_type": "code",
      "execution_count": 1,
      "metadata": {},
      "outputs": [
        {
          "data": {
            "text/plain": [
              "''"
            ]
          },
          "execution_count": 1,
          "metadata": {},
          "output_type": "execute_result"
        }
      ],
      "source": [
        "str()"
      ]
    },
    {
      "cell_type": "code",
      "execution_count": 2,
      "metadata": {},
      "outputs": [
        {
          "data": {
            "text/plain": [
              "str"
            ]
          },
          "execution_count": 2,
          "metadata": {},
          "output_type": "execute_result"
        }
      ],
      "source": [
        "type('sdfa') # str"
      ]
    },
    {
      "cell_type": "code",
      "execution_count": 1,
      "metadata": {},
      "outputs": [
        {
          "data": {
            "text/plain": [
              "True"
            ]
          },
          "execution_count": 1,
          "metadata": {},
          "output_type": "execute_result"
        }
      ],
      "source": [
        "type('sdfa')  == str"
      ]
    },
    {
      "cell_type": "code",
      "execution_count": 3,
      "metadata": {},
      "outputs": [
        {
          "data": {
            "text/plain": [
              "True"
            ]
          },
          "execution_count": 3,
          "metadata": {},
          "output_type": "execute_result"
        }
      ],
      "source": [
        "int == type(int('234')) # True"
      ]
    },
    {
      "cell_type": "code",
      "execution_count": 2,
      "metadata": {},
      "outputs": [
        {
          "data": {
            "text/plain": [
              "234"
            ]
          },
          "execution_count": 2,
          "metadata": {},
          "output_type": "execute_result"
        }
      ],
      "source": [
        "int('234') # int"
      ]
    },
    {
      "cell_type": "code",
      "execution_count": null,
      "metadata": {},
      "outputs": [],
      "source": [
        "type(int) #  int"
      ]
    },
    {
      "cell_type": "code",
      "execution_count": 1,
      "metadata": {},
      "outputs": [
        {
          "data": {
            "text/plain": [
              "'234'"
            ]
          },
          "execution_count": 1,
          "metadata": {},
          "output_type": "execute_result"
        }
      ],
      "source": [
        "import json\n",
        "\n",
        "a = 234\n",
        "\n",
        "b = json.dumps(a)\n",
        "b # '234'\n"
      ]
    },
    {
      "cell_type": "code",
      "execution_count": 2,
      "metadata": {},
      "outputs": [
        {
          "data": {
            "text/plain": [
              "str"
            ]
          },
          "execution_count": 2,
          "metadata": {},
          "output_type": "execute_result"
        }
      ],
      "source": [
        "type(b)"
      ]
    },
    {
      "cell_type": "code",
      "execution_count": 3,
      "metadata": {},
      "outputs": [
        {
          "data": {
            "text/plain": [
              "'{\"Magesh\": \"234\", \"number\": 123, \"name\": \"Jasmine\"}'"
            ]
          },
          "execution_count": 3,
          "metadata": {},
          "output_type": "execute_result"
        }
      ],
      "source": [
        "a = {'Magesh':'234',\"number\":123,'name':'Jasmine'}\n",
        "\n",
        "b = json.dumps(a)\n",
        "b"
      ]
    },
    {
      "cell_type": "code",
      "execution_count": null,
      "metadata": {},
      "outputs": [],
      "source": []
    }
  ],
  "metadata": {
    "colab": {
      "provenance": []
    },
    "kernelspec": {
      "display_name": "Python 3",
      "name": "python3"
    },
    "language_info": {
      "codemirror_mode": {
        "name": "ipython",
        "version": 3
      },
      "file_extension": ".py",
      "mimetype": "text/x-python",
      "name": "python",
      "nbconvert_exporter": "python",
      "pygments_lexer": "ipython3",
      "version": "3.11.1"
    }
  },
  "nbformat": 4,
  "nbformat_minor": 0
}
